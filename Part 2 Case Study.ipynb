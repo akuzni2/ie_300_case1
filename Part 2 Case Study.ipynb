{
 "cells": [
  {
   "cell_type": "code",
   "execution_count": 1,
   "metadata": {
    "collapsed": false
   },
   "outputs": [
    {
     "data": {
      "application/javascript": [
       "\n",
       "Jupyter.keyboard_manager.command_shortcuts.add_shortcut('r', {\n",
       "    help : 'run all cells',\n",
       "    help_index : 'zz',\n",
       "    handler : function (event) {\n",
       "        IPython.notebook.execute_all_cells();\n",
       "        return false;\n",
       "    }}\n",
       ");"
      ],
      "text/plain": [
       "<IPython.core.display.Javascript object>"
      ]
     },
     "metadata": {},
     "output_type": "display_data"
    }
   ],
   "source": [
    "%%javascript\n",
    "\n",
    "Jupyter.keyboard_manager.command_shortcuts.add_shortcut('r', {\n",
    "    help : 'run all cells',\n",
    "    help_index : 'zz',\n",
    "    handler : function (event) {\n",
    "        IPython.notebook.execute_all_cells();\n",
    "        return false;\n",
    "    }}\n",
    ");"
   ]
  },
  {
   "cell_type": "code",
   "execution_count": 3,
   "metadata": {
    "collapsed": false
   },
   "outputs": [
    {
     "data": {
      "text/html": [
       "<div>\n",
       "<table border=\"1\" class=\"dataframe\">\n",
       "  <thead>\n",
       "    <tr style=\"text-align: right;\">\n",
       "      <th></th>\n",
       "      <th>Carrier</th>\n",
       "      <th>Origin</th>\n",
       "      <th>Destination</th>\n",
       "      <th>Departure Delay</th>\n",
       "      <th>Arrival Delay</th>\n",
       "    </tr>\n",
       "  </thead>\n",
       "  <tbody>\n",
       "    <tr>\n",
       "      <th>0</th>\n",
       "      <td>AA</td>\n",
       "      <td>JFK</td>\n",
       "      <td>LAS</td>\n",
       "      <td>-5</td>\n",
       "      <td>-23</td>\n",
       "    </tr>\n",
       "    <tr>\n",
       "      <th>1</th>\n",
       "      <td>AA</td>\n",
       "      <td>SFO</td>\n",
       "      <td>ORD</td>\n",
       "      <td>-5</td>\n",
       "      <td>-27</td>\n",
       "    </tr>\n",
       "  </tbody>\n",
       "</table>\n",
       "</div>"
      ],
      "text/plain": [
       "  Carrier Origin Destination  Departure Delay  Arrival Delay\n",
       "0      AA    JFK         LAS               -5            -23\n",
       "1      AA    SFO         ORD               -5            -27"
      ]
     },
     "execution_count": 3,
     "metadata": {},
     "output_type": "execute_result"
    }
   ],
   "source": [
    "import csv \n",
    "import pandas as pd\n",
    "import matplotlib as mpl\n",
    "import matplotlib.pyplot as plt\n",
    "import numpy as np\n",
    "%matplotlib inline\n",
    "flight_delay = pd.read_csv(\"FlightDelay.csv\") \n",
    "flight_delay.head(2)"
   ]
  },
  {
   "cell_type": "code",
   "execution_count": 4,
   "metadata": {
    "collapsed": false
   },
   "outputs": [],
   "source": [
    "delay = flight_delay['Departure Delay'].values\n",
    "arrival = flight_delay['Arrival Delay'].values\n",
    "total_delay = delay + arrival\n",
    "flight_delay['Total Delay'] = total_delay\n",
    "flight_delay.tail(2)\n",
    "flight_delay['Classify Delay'] = np.where(flight_delay['Total Delay']>=15, 'Y', 'N')\n",
    "\n",
    "#Just cleaning up the data\n",
    "df = flight_delay.drop('Arrival Delay', 1)\n",
    "df = df.drop('Departure Delay', 1)\n",
    "df = df.drop('Total Delay', 1)\n",
    "data_set = df"
   ]
  },
  {
   "cell_type": "code",
   "execution_count": 5,
   "metadata": {
    "collapsed": false
   },
   "outputs": [],
   "source": [
    "#makes a count for how many yes's and no's there are.\n",
    "count_delay = data_set.groupby('Classify Delay').count()\n",
    "\n",
    "## getting p for number of carriers\n",
    "carriers_array = data_set.set_index('Carrier').index.unique()\n",
    "p_carrier = 1/len(carriers_array)\n",
    "\n",
    "## getting p for number of origins\n",
    "origin_array = data_set.set_index('Origin').index.unique()\n",
    "p_origin = 1/len(origin_array)\n",
    "\n",
    "## getting p for number of destinations\n",
    "dest_array = data_set.set_index('Destination').index.unique()\n",
    "p_dest = 1/len(dest_array)\n",
    "\n",
    "\n",
    "num_yes = count_delay.iloc[1]['Carrier']\n",
    "num_no = count_delay.iloc[0]['Carrier']\n",
    "num_total = num_yes + num_no\n",
    "\n",
    "P_y = num_yes/num_total\n",
    "P_n = num_no/num_total\n"
   ]
  },
  {
   "cell_type": "code",
   "execution_count": 6,
   "metadata": {
    "collapsed": false
   },
   "outputs": [],
   "source": [
    "def flight_delay_prediction(origin_input,destination_input,carrier_input):\n",
    "\n",
    "    specific_origin = data_set['Origin'] == origin_input\n",
    "    no_delay = data_set['Classify Delay'] =='N'\n",
    "    yes_delay = data_set['Classify Delay'] =='Y'\n",
    "    # counting the number of non delayed flights, and number of delayed flights with specific origin\n",
    "    number_of_N_origin = len(data_set[specific_origin & no_delay])\n",
    "    number_of_Y_origin = len(data_set[specific_origin & yes_delay])\n",
    "    #counting total number of flights from that origin\n",
    "    number_of_flights_from_origin = number_of_N_origin + number_of_Y_origin\n",
    "    \n",
    "    ######\n",
    "    \n",
    "    specific_dest = data_set['Destination'] == destination_input\n",
    "    no_delay_dest = data_set['Classify Delay'] =='N'\n",
    "    yes_delay_dest = data_set['Classify Delay'] =='Y'\n",
    "    # counting the number of non delayed flights, and number of delayed flights with specific destination\n",
    "    number_of_N_dest = len(data_set[specific_dest & no_delay_dest])\n",
    "    number_of_Y_dest = len(data_set[specific_dest & yes_delay_dest])\n",
    "    #counting total number of flights from that origin\n",
    "    number_of_flights_from_dest = number_of_N_dest + number_of_Y_dest\n",
    "    \n",
    "    ######\n",
    "    \n",
    "    specific_carrier = data_set['Carrier'] == carrier_input\n",
    "    no_delay_carrier = data_set['Classify Delay'] =='N'\n",
    "    yes_delay_carrier = data_set['Classify Delay'] =='Y'\n",
    "    # counting the number of non delayed flights, and number of delayed flights with specific destination\n",
    "    number_of_N_carrier = len(data_set[specific_carrier & no_delay_carrier])\n",
    "    number_of_Y_carrier = len(data_set[specific_carrier & yes_delay_carrier])\n",
    "    #counting total number of flights from that origin\n",
    "    number_of_flights_from_carrier = number_of_N_carrier + number_of_Y_carrier\n",
    "    \n",
    "    \n",
    "    P_YES_DELAY = (P_y*\n",
    "                            (number_of_Y_origin + 3*p_origin)/(number_of_flights_from_origin + 3)*\n",
    "                            (number_of_Y_dest + 3*p_dest)/(number_of_flights_from_dest + 3)*\n",
    "                            (number_of_Y_carrier + 3*p_carrier)/(number_of_flights_from_carrier + 3))\n",
    "    \n",
    "    P_NOT_DELAY = (P_n*\n",
    "                            (number_of_N_origin + 3*p_origin)/(number_of_flights_from_origin + 3)*\n",
    "                            (number_of_N_dest + 3*p_dest)/(number_of_flights_from_dest + 3)*\n",
    "                            (number_of_N_carrier + 3*p_carrier)/(number_of_flights_from_carrier + 3))\n",
    "    \n",
    "    print(\"For flight: \", origin_input, \"to \", destination_input, \"on \" , carrier_input)\n",
    "    print(\"Probability of delay: \", P_YES_DELAY)\n",
    "    print(\"Probability of no delay: \", P_NOT_DELAY)\n",
    "    \n",
    "    if P_NOT_DELAY > P_YES_DELAY:\n",
    "        print(\"The Flight is Not Delayed\")\n",
    "    else: \n",
    "        print(\"The Flight is Delayed\")\n"
   ]
  },
  {
   "cell_type": "code",
   "execution_count": 7,
   "metadata": {
    "collapsed": false
   },
   "outputs": [
    {
     "name": "stdout",
     "output_type": "stream",
     "text": [
      "For flight:  JFK to  JFK on  AA\n",
      "Probability of delay:  0.00271498213848\n",
      "Probability of no delay:  0.167749572697\n",
      "The Flight is Not Delayed\n"
     ]
    }
   ],
   "source": [
    "flight_delay_prediction(\"JFK\",\"JFK\",\"AA\")"
   ]
  },
  {
   "cell_type": "code",
   "execution_count": 44,
   "metadata": {
    "collapsed": false
   },
   "outputs": [],
   "source": [
    "    specific_carrier = data_set['Carrier'] == 'BAB'\n",
    "    no_delay_carrier = data_set['Classify Delay'] =='N'\n",
    "    yes_delay_carrier = data_set['Classify Delay'] =='Y'\n",
    "    # counting the number of non delayed flights, and number of delayed flights with specific destination\n",
    "    number_of_N_carrier = len(data_set[specific_carrier & no_delay_carrier])\n",
    "    number_of_Y_carrier = len(data_set[specific_carrier & yes_delay_carrier])\n",
    "    #counting total number of flights from that origin\n",
    "    number_of_flights_from_carrier = number_of_N_carrier + number_of_Y_carrier"
   ]
  },
  {
   "cell_type": "code",
   "execution_count": 45,
   "metadata": {
    "collapsed": false
   },
   "outputs": [
    {
     "data": {
      "text/plain": [
       "0"
      ]
     },
     "execution_count": 45,
     "metadata": {},
     "output_type": "execute_result"
    }
   ],
   "source": [
    "number_of_N_carrier"
   ]
  },
  {
   "cell_type": "code",
   "execution_count": 46,
   "metadata": {
    "collapsed": false
   },
   "outputs": [
    {
     "data": {
      "text/plain": [
       "0"
      ]
     },
     "execution_count": 46,
     "metadata": {},
     "output_type": "execute_result"
    }
   ],
   "source": [
    "number_of_Y_carrier"
   ]
  },
  {
   "cell_type": "code",
   "execution_count": 43,
   "metadata": {
    "collapsed": false
   },
   "outputs": [
    {
     "data": {
      "text/html": [
       "<div>\n",
       "<table border=\"1\" class=\"dataframe\">\n",
       "  <thead>\n",
       "    <tr style=\"text-align: right;\">\n",
       "      <th></th>\n",
       "      <th>Carrier</th>\n",
       "      <th>Origin</th>\n",
       "      <th>Destination</th>\n",
       "      <th>Classify Delay</th>\n",
       "    </tr>\n",
       "  </thead>\n",
       "  <tbody>\n",
       "    <tr>\n",
       "      <th>0</th>\n",
       "      <td>AA</td>\n",
       "      <td>JFK</td>\n",
       "      <td>LAS</td>\n",
       "      <td>N</td>\n",
       "    </tr>\n",
       "    <tr>\n",
       "      <th>1</th>\n",
       "      <td>AA</td>\n",
       "      <td>SFO</td>\n",
       "      <td>ORD</td>\n",
       "      <td>N</td>\n",
       "    </tr>\n",
       "    <tr>\n",
       "      <th>2</th>\n",
       "      <td>AA</td>\n",
       "      <td>SFO</td>\n",
       "      <td>ORD</td>\n",
       "      <td>N</td>\n",
       "    </tr>\n",
       "    <tr>\n",
       "      <th>3</th>\n",
       "      <td>AA</td>\n",
       "      <td>SFO</td>\n",
       "      <td>ORD</td>\n",
       "      <td>N</td>\n",
       "    </tr>\n",
       "    <tr>\n",
       "      <th>4</th>\n",
       "      <td>AA</td>\n",
       "      <td>SFO</td>\n",
       "      <td>ORD</td>\n",
       "      <td>N</td>\n",
       "    </tr>\n",
       "  </tbody>\n",
       "</table>\n",
       "</div>"
      ],
      "text/plain": [
       "  Carrier Origin Destination Classify Delay\n",
       "0      AA    JFK         LAS              N\n",
       "1      AA    SFO         ORD              N\n",
       "2      AA    SFO         ORD              N\n",
       "3      AA    SFO         ORD              N\n",
       "4      AA    SFO         ORD              N"
      ]
     },
     "execution_count": 43,
     "metadata": {},
     "output_type": "execute_result"
    }
   ],
   "source": [
    "data_set.head(5)"
   ]
  },
  {
   "cell_type": "code",
   "execution_count": null,
   "metadata": {
    "collapsed": true
   },
   "outputs": [],
   "source": []
  }
 ],
 "metadata": {
  "anaconda-cloud": {},
  "kernelspec": {
   "display_name": "Python [conda root]",
   "language": "python",
   "name": "conda-root-py"
  },
  "language_info": {
   "codemirror_mode": {
    "name": "ipython",
    "version": 3
   },
   "file_extension": ".py",
   "mimetype": "text/x-python",
   "name": "python",
   "nbconvert_exporter": "python",
   "pygments_lexer": "ipython3",
   "version": "3.5.2"
  }
 },
 "nbformat": 4,
 "nbformat_minor": 1
}
