{
 "cells": [
  {
   "cell_type": "code",
   "execution_count": 1,
   "metadata": {
    "collapsed": false
   },
   "outputs": [
    {
     "data": {
      "application/javascript": [
       "\n",
       "Jupyter.keyboard_manager.command_shortcuts.add_shortcut('r', {\n",
       "    help : 'run all cells',\n",
       "    help_index : 'zz',\n",
       "    handler : function (event) {\n",
       "        IPython.notebook.execute_all_cells();\n",
       "        return false;\n",
       "    }}\n",
       ");"
      ],
      "text/plain": [
       "<IPython.core.display.Javascript object>"
      ]
     },
     "metadata": {},
     "output_type": "display_data"
    }
   ],
   "source": [
    "%%javascript\n",
    "\n",
    "Jupyter.keyboard_manager.command_shortcuts.add_shortcut('r', {\n",
    "    help : 'run all cells',\n",
    "    help_index : 'zz',\n",
    "    handler : function (event) {\n",
    "        IPython.notebook.execute_all_cells();\n",
    "        return false;\n",
    "    }}\n",
    ");"
   ]
  },
  {
   "cell_type": "markdown",
   "metadata": {},
   "source": [
    "##### 1) Importing packages + importing the csv into a dataframe. "
   ]
  },
  {
   "cell_type": "code",
   "execution_count": 2,
   "metadata": {
    "collapsed": false,
    "scrolled": true
   },
   "outputs": [
    {
     "data": {
      "text/html": [
       "<div>\n",
       "<table border=\"1\" class=\"dataframe\">\n",
       "  <thead>\n",
       "    <tr style=\"text-align: right;\">\n",
       "      <th></th>\n",
       "      <th>Flight Time</th>\n",
       "      <th>Carrier</th>\n",
       "      <th>Flight Number</th>\n",
       "      <th>Origin</th>\n",
       "      <th>Destination</th>\n",
       "      <th>Departure Time</th>\n",
       "      <th>Departure Delay</th>\n",
       "      <th>Arrival Time</th>\n",
       "      <th>Arrival Delay</th>\n",
       "      <th>Flight Time.1</th>\n",
       "    </tr>\n",
       "  </thead>\n",
       "  <tbody>\n",
       "    <tr>\n",
       "      <th>0</th>\n",
       "      <td>11/1/2015</td>\n",
       "      <td>AA</td>\n",
       "      <td>111</td>\n",
       "      <td>ORD</td>\n",
       "      <td>LAX</td>\n",
       "      <td>1709.0</td>\n",
       "      <td>-1.0</td>\n",
       "      <td>1952.0</td>\n",
       "      <td>2.0</td>\n",
       "      <td>283</td>\n",
       "    </tr>\n",
       "    <tr>\n",
       "      <th>1</th>\n",
       "      <td>11/1/2015</td>\n",
       "      <td>AA</td>\n",
       "      <td>1092</td>\n",
       "      <td>ORD</td>\n",
       "      <td>LAX</td>\n",
       "      <td>2021.0</td>\n",
       "      <td>-4.0</td>\n",
       "      <td>2243.0</td>\n",
       "      <td>-20.0</td>\n",
       "      <td>262</td>\n",
       "    </tr>\n",
       "  </tbody>\n",
       "</table>\n",
       "</div>"
      ],
      "text/plain": [
       "  Flight Time Carrier  Flight Number Origin Destination  Departure Time  \\\n",
       "0   11/1/2015      AA            111    ORD         LAX          1709.0   \n",
       "1   11/1/2015      AA           1092    ORD         LAX          2021.0   \n",
       "\n",
       "   Departure Delay  Arrival Time  Arrival Delay  Flight Time.1  \n",
       "0             -1.0        1952.0            2.0            283  \n",
       "1             -4.0        2243.0          -20.0            262  "
      ]
     },
     "execution_count": 2,
     "metadata": {},
     "output_type": "execute_result"
    }
   ],
   "source": [
    "import csv \n",
    "import pandas as pd\n",
    "import matplotlib as mpl\n",
    "import matplotlib.pyplot as plt\n",
    "import numpy as np\n",
    "%matplotlib inline\n",
    "main_data = pd.read_csv(\"FlightTime.csv\")\n",
    "main_data.head(2)"
   ]
  },
  {
   "cell_type": "code",
   "execution_count": 3,
   "metadata": {
    "collapsed": false
   },
   "outputs": [
    {
     "data": {
      "text/html": [
       "<div>\n",
       "<table border=\"1\" class=\"dataframe\">\n",
       "  <thead>\n",
       "    <tr style=\"text-align: right;\">\n",
       "      <th></th>\n",
       "      <th>Flight Time</th>\n",
       "      <th>Carrier</th>\n",
       "      <th>Flight Number</th>\n",
       "      <th>Origin</th>\n",
       "      <th>Destination</th>\n",
       "      <th>Departure Time</th>\n",
       "      <th>Departure Delay</th>\n",
       "      <th>Arrival Time</th>\n",
       "      <th>Arrival Delay</th>\n",
       "      <th>Flight Time.1</th>\n",
       "    </tr>\n",
       "  </thead>\n",
       "  <tbody>\n",
       "    <tr>\n",
       "      <th>0</th>\n",
       "      <td>11/1/2015</td>\n",
       "      <td>AA</td>\n",
       "      <td>111</td>\n",
       "      <td>ORD</td>\n",
       "      <td>LAX</td>\n",
       "      <td>1709.0</td>\n",
       "      <td>-1.0</td>\n",
       "      <td>1952.0</td>\n",
       "      <td>2.0</td>\n",
       "      <td>283</td>\n",
       "    </tr>\n",
       "  </tbody>\n",
       "</table>\n",
       "</div>"
      ],
      "text/plain": [
       "  Flight Time Carrier  Flight Number Origin Destination  Departure Time  \\\n",
       "0   11/1/2015      AA            111    ORD         LAX          1709.0   \n",
       "\n",
       "   Departure Delay  Arrival Time  Arrival Delay  Flight Time.1  \n",
       "0             -1.0        1952.0            2.0            283  "
      ]
     },
     "execution_count": 3,
     "metadata": {},
     "output_type": "execute_result"
    }
   ],
   "source": [
    "# just taking a look at how the csv imported into the dataframe\n",
    "main_data.head(1)"
   ]
  },
  {
   "cell_type": "markdown",
   "metadata": {},
   "source": [
    "### destination = source.ix[start:end,['Column1','Column2'']]\n",
    "#### [ ] around column names make sure to keep index on the destination dataframe\n",
    "####  this returns the slice of the data frame of specific columns and length "
   ]
  },
  {
   "cell_type": "markdown",
   "metadata": {},
   "source": [
    "###### 2) Removing flight times that are below 230 min."
   ]
  },
  {
   "cell_type": "code",
   "execution_count": 4,
   "metadata": {
    "collapsed": false
   },
   "outputs": [
    {
     "name": "stdout",
     "output_type": "stream",
     "text": [
      "<class 'pandas.core.frame.DataFrame'>\n",
      "Int64Index: 728 entries, 0 to 741\n",
      "Data columns (total 10 columns):\n",
      "Flight Time        728 non-null object\n",
      "Carrier            728 non-null object\n",
      "Flight Number      728 non-null int64\n",
      "Origin             728 non-null object\n",
      "Destination        728 non-null object\n",
      "Departure Time     728 non-null float64\n",
      "Departure Delay    728 non-null float64\n",
      "Arrival Time       728 non-null float64\n",
      "Arrival Delay      728 non-null float64\n",
      "Flight Time.1      728 non-null int64\n",
      "dtypes: float64(4), int64(2), object(4)\n",
      "memory usage: 62.6+ KB\n"
     ]
    }
   ],
   "source": [
    "main_data = main_data[main_data['Flight Time.1'] > 230]\n",
    "main_data.info() ## checking to see types/numbers of variables"
   ]
  },
  {
   "cell_type": "markdown",
   "metadata": {},
   "source": [
    "##### 3) Below acts on dataFrame \"main_data\" - removes rows that have missing values for \"Arrival Time\" and \"Departure Time\" . Found from google search \"How to drop rows of Pandas DataFrame whose value in certain columns is NaN\""
   ]
  },
  {
   "cell_type": "code",
   "execution_count": 5,
   "metadata": {
    "collapsed": false
   },
   "outputs": [],
   "source": [
    "main_data = main_data[pd.notnull(main_data['Arrival Time'])]\n",
    "main_data = main_data[pd.notnull(main_data['Departure Time'])]"
   ]
  },
  {
   "cell_type": "markdown",
   "metadata": {},
   "source": [
    "###### This tells me the length of my data set. The same information is shown above using \"main_data.info()\""
   ]
  },
  {
   "cell_type": "code",
   "execution_count": 6,
   "metadata": {
    "collapsed": false
   },
   "outputs": [
    {
     "data": {
      "text/plain": [
       "728"
      ]
     },
     "execution_count": 6,
     "metadata": {},
     "output_type": "execute_result"
    }
   ],
   "source": [
    "len(main_data) "
   ]
  },
  {
   "cell_type": "markdown",
   "metadata": {},
   "source": [
    "###### TFT = 0.117 ∗ d + .517*(L_ori − L_des) + 20\n",
    "###### L_ori = longitude of the origin \n",
    "###### L_des = longitude of destination\n",
    "###### d = spherical distance between L_ori and L_des\n",
    "##### given in the problem --> | L_ori = -87.90 degrees |  L_des = -118.41 degree | d = 1741.16 |"
   ]
  },
  {
   "cell_type": "code",
   "execution_count": 7,
   "metadata": {
    "collapsed": false
   },
   "outputs": [
    {
     "name": "stdout",
     "output_type": "stream",
     "text": [
      "The total flight time calculated is:  239.48939000000001 Minutes\n"
     ]
    }
   ],
   "source": [
    "lori = -87.90 \n",
    "ldes = -118.41\n",
    "d = 1741.16\n",
    "tft = 0.117*d + .517*(lori-ldes) + 20\n",
    "print (\"The total flight time calculated is: \",tft, \"Minutes\")"
   ]
  },
  {
   "cell_type": "code",
   "execution_count": 8,
   "metadata": {
    "collapsed": false
   },
   "outputs": [],
   "source": [
    "dep_delay_mean = main_data['Departure Delay'].mean()\n",
    "arr_delay_mean = main_data['Arrival Delay'].mean()\n"
   ]
  },
  {
   "cell_type": "code",
   "execution_count": 9,
   "metadata": {
    "collapsed": false
   },
   "outputs": [
    {
     "name": "stdout",
     "output_type": "stream",
     "text": [
      "The total delay calculated is:  23.752747252747252 Minutes\n"
     ]
    }
   ],
   "source": [
    "total_delay = dep_delay_mean + arr_delay_mean\n",
    "tft_minutes = tft + total_delay\n",
    "print (\"The total delay calculated is: \",total_delay, \"Minutes\")"
   ]
  },
  {
   "cell_type": "code",
   "execution_count": 10,
   "metadata": {
    "collapsed": false
   },
   "outputs": [
    {
     "name": "stdout",
     "output_type": "stream",
     "text": [
      "AA\n",
      "1435.661971830986\n",
      "F9\n",
      "2116.5862068965516\n",
      "NK\n",
      "1166.5762711864406\n",
      "UA\n",
      "1423.03355704698\n",
      "VX\n",
      "1194.7586206896551\n"
     ]
    }
   ],
   "source": [
    "### doing a rough view of what I should see. I would have done something like this if I didn't use \"groupby()\" below.\n",
    "### this is also what I would have done if I just used the csv package.\n",
    "carriers_test = main_data.groupby('Carrier')\n",
    "for key,data in carriers_test:\n",
    "    print (key)\n",
    "    print (data['Departure Time'].mean())"
   ]
  },
  {
   "cell_type": "code",
   "execution_count": 11,
   "metadata": {
    "collapsed": false
   },
   "outputs": [
    {
     "data": {
      "text/html": [
       "<div>\n",
       "<table border=\"1\" class=\"dataframe\">\n",
       "  <thead>\n",
       "    <tr style=\"text-align: right;\">\n",
       "      <th></th>\n",
       "      <th>Flight Number</th>\n",
       "      <th>Departure Time</th>\n",
       "      <th>Departure Delay</th>\n",
       "      <th>Arrival Time</th>\n",
       "      <th>Arrival Delay</th>\n",
       "      <th>Flight Time.1</th>\n",
       "    </tr>\n",
       "    <tr>\n",
       "      <th>Carrier</th>\n",
       "      <th></th>\n",
       "      <th></th>\n",
       "      <th></th>\n",
       "      <th></th>\n",
       "      <th></th>\n",
       "      <th></th>\n",
       "    </tr>\n",
       "  </thead>\n",
       "  <tbody>\n",
       "    <tr>\n",
       "      <th>AA</th>\n",
       "      <td>1526.408451</td>\n",
       "      <td>1435.661972</td>\n",
       "      <td>13.651408</td>\n",
       "      <td>1451.760563</td>\n",
       "      <td>3.260563</td>\n",
       "      <td>267.507042</td>\n",
       "    </tr>\n",
       "    <tr>\n",
       "      <th>F9</th>\n",
       "      <td>1271.000000</td>\n",
       "      <td>2116.586207</td>\n",
       "      <td>13.310345</td>\n",
       "      <td>1706.379310</td>\n",
       "      <td>23.275862</td>\n",
       "      <td>275.310345</td>\n",
       "    </tr>\n",
       "    <tr>\n",
       "      <th>NK</th>\n",
       "      <td>733.949153</td>\n",
       "      <td>1166.576271</td>\n",
       "      <td>17.084746</td>\n",
       "      <td>1375.152542</td>\n",
       "      <td>14.881356</td>\n",
       "      <td>267.559322</td>\n",
       "    </tr>\n",
       "    <tr>\n",
       "      <th>UA</th>\n",
       "      <td>807.526846</td>\n",
       "      <td>1423.033557</td>\n",
       "      <td>19.969799</td>\n",
       "      <td>1435.563758</td>\n",
       "      <td>11.194631</td>\n",
       "      <td>269.174497</td>\n",
       "    </tr>\n",
       "    <tr>\n",
       "      <th>VX</th>\n",
       "      <td>235.827586</td>\n",
       "      <td>1194.758621</td>\n",
       "      <td>5.965517</td>\n",
       "      <td>1434.465517</td>\n",
       "      <td>-1.568966</td>\n",
       "      <td>265.913793</td>\n",
       "    </tr>\n",
       "  </tbody>\n",
       "</table>\n",
       "</div>"
      ],
      "text/plain": [
       "         Flight Number  Departure Time  Departure Delay  Arrival Time  \\\n",
       "Carrier                                                                 \n",
       "AA         1526.408451     1435.661972        13.651408   1451.760563   \n",
       "F9         1271.000000     2116.586207        13.310345   1706.379310   \n",
       "NK          733.949153     1166.576271        17.084746   1375.152542   \n",
       "UA          807.526846     1423.033557        19.969799   1435.563758   \n",
       "VX          235.827586     1194.758621         5.965517   1434.465517   \n",
       "\n",
       "         Arrival Delay  Flight Time.1  \n",
       "Carrier                                \n",
       "AA            3.260563     267.507042  \n",
       "F9           23.275862     275.310345  \n",
       "NK           14.881356     267.559322  \n",
       "UA           11.194631     269.174497  \n",
       "VX           -1.568966     265.913793  "
      ]
     },
     "execution_count": 11,
     "metadata": {},
     "output_type": "execute_result"
    }
   ],
   "source": [
    "# this sets the index to be \"Carrier\". Then I group which takes the unique values in the Index. \n",
    "# Then I take the mean of each column that corresponds to the unique values in the index.\n",
    "carriers = main_data.set_index('Carrier').groupby(level = 0).mean()\n",
    "carriers"
   ]
  },
  {
   "cell_type": "code",
   "execution_count": 12,
   "metadata": {
    "collapsed": false
   },
   "outputs": [],
   "source": [
    "extra_time_per_carrier = carriers['Flight Time.1'] - tft"
   ]
  },
  {
   "cell_type": "code",
   "execution_count": 13,
   "metadata": {
    "collapsed": false
   },
   "outputs": [
    {
     "data": {
      "image/png": "[encoded data removed]",
      "text/plain": [
       "<matplotlib.figure.Figure at 0x112c73630>"
      ]
     },
     "metadata": {},
     "output_type": "display_data"
    }
   ],
   "source": [
    "plt.style.use('seaborn-pastel')\n",
    "extra_time_per_carrier.plot(kind = 'bar')\n",
    "plt.ylabel('Time Added (Minutes)')\n",
    "label_size = 10\n",
    "plt.rcParams['xtick.labelsize'] = label_size\n",
    "plt.rcParams['ytick.labelsize'] = label_size"
   ]
  },
  {
   "cell_type": "code",
   "execution_count": 14,
   "metadata": {
    "collapsed": false
   },
   "outputs": [],
   "source": [
    "extra_time_per_carrier.to_csv('Case1_solution.csv', header = True)"
   ]
  }
 ],
 "metadata": {
  "anaconda-cloud": {},
  "kernelspec": {
   "display_name": "Python [conda root]",
   "language": "python",
   "name": "conda-root-py"
  },
  "language_info": {
   "codemirror_mode": {
    "name": "ipython",
    "version": 3
   },
   "file_extension": ".py",
   "mimetype": "text/x-python",
   "name": "python",
   "nbconvert_exporter": "python",
   "pygments_lexer": "ipython3",
   "version": "3.5.2"
  }
 },
 "nbformat": 4,
 "nbformat_minor": 1
}
